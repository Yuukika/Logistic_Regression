{
 "cells": [
  {
   "cell_type": "markdown",
   "metadata": {},
   "source": [
    "### Logistic Regression"
   ]
  },
  {
   "cell_type": "markdown",
   "metadata": {},
   "source": [
    "    逻辑回归用来处理分类问题，像线性回归模型一样，逻辑回归模型也计算各个输入属性的参数权重之和，但是不同的是，输出这个值得逻辑值。\n",
    "    主要形式可以表现为："
   ]
  },
  {
   "cell_type": "markdown",
   "metadata": {},
   "source": [
    "$P = h^w(x) = \\sigma(w^Tx)$"
   ]
  },
  {
   "cell_type": "markdown",
   "metadata": {},
   "source": [
    "其中：\n",
    "    $\\sigma(t) = \\frac{1}{1 + e^{-t}}$"
   ]
  },
  {
   "cell_type": "code",
   "execution_count": 4,
   "metadata": {
    "collapsed": true
   },
   "outputs": [],
   "source": [
    "import numpy as np\n",
    "import matplotlib.pyplot as plt\n",
    "%matplotlib inline"
   ]
  },
  {
   "cell_type": "code",
   "execution_count": 17,
   "metadata": {},
   "outputs": [
    {
     "data": {
      "text/plain": [
       "<matplotlib.text.Text at 0x1109c2ba8>"
      ]
     },
     "execution_count": 17,
     "metadata": {},
     "output_type": "execute_result"
    },
    {
     "data": {
      "image/png": "[encoded data removed]",
      "text/plain": [
       "<matplotlib.figure.Figure at 0x11127eac8>"
      ]
     },
     "metadata": {},
     "output_type": "display_data"
    }
   ],
   "source": [
    "t = np.arange(-10,10,0.1)\n",
    "y = 1 / (1 + np.exp(-t))\n",
    "x = np.zeros(200)\n",
    "y2 = np.array([0.5]*200)\n",
    "fig = plt.figure()\n",
    "plt.plot(t,y,'g-')\n",
    "plt.plot(x,y,'k--')\n",
    "plt.plot(t,y2,'k--')\n",
    "plt.ylabel(\"sigmoid fuction\")\n",
    "plt.xlabel(\"t\")"
   ]
  },
  {
   "cell_type": "markdown",
   "metadata": {},
   "source": [
    "可以发现，当$w^Tx$ > 0 时，0.5 < $h_w(x)$ < 1,  \n",
    "当$w^Tx$ < 0时，0 < $h_w(x)$ < 0.5  "
   ]
  },
  {
   "cell_type": "markdown",
   "metadata": {},
   "source": [
    "因此可以判定$w^Tx$ > 0 时，$h_w(x)$ 取得1，相反取得0获得分类效果。"
   ]
  },
  {
   "cell_type": "markdown",
   "metadata": {},
   "source": [
    "在线性回归问题中，通过定义代价函数（MES）来拟合参数的优化，逻辑回归也可以定义代价函数，思路是：  \n",
    "希望获得这样的效果，输出模型的对于分类{1，0}的概率，当实际分类为1时，模型预测为1的误差最低，概率最高，而预测为0的误差随着$h_w(x)$的变小而增大；当实际分类为0时，使得模型预测为0的误差最底，预测为1的误差随着$h_w(x)$的变大而增大。"
   ]
  },
  {
   "cell_type": "markdown",
   "metadata": {},
   "source": [
    "由上思路得到下面单个样本的代价函数：  \n",
    "$ f(x)=\\left\\{\n",
    "\\begin{aligned}\n",
    "-log(h_w(x))&  & if: y=1 \\\\\n",
    "-log(1 - h_w(x))&  &if: y=0\n",
    "\\end{aligned}\n",
    "\\right.\n",
    "$"
   ]
  },
  {
   "cell_type": "code",
   "execution_count": 24,
   "metadata": {},
   "outputs": [
    {
     "name": "stderr",
     "output_type": "stream",
     "text": [
      "/Library/Frameworks/Python.framework/Versions/3.6/lib/python3.6/site-packages/ipykernel_launcher.py:3: RuntimeWarning: divide by zero encountered in log\n",
      "  This is separate from the ipykernel package so we can avoid doing imports until\n"
     ]
    },
    {
     "data": {
      "text/plain": [
       "[<matplotlib.lines.Line2D at 0x111b5eda0>]"
      ]
     },
     "execution_count": 24,
     "metadata": {},
     "output_type": "execute_result"
    },
    {
     "data": {
      "image/png": "[encoded data removed]",
      "text/plain": [
       "<matplotlib.figure.Figure at 0x111ad77b8>"
      ]
     },
     "metadata": {},
     "output_type": "display_data"
    }
   ],
   "source": [
    "fig,(saxis1,saxis2) = plt.subplots(1,2, figsize=(12,4))\n",
    "x = np.arange(0,1,0.01)\n",
    "y1 = -np.log(x)\n",
    "y2 = -np.log(1-x)\n",
    "saxis1.plot(x,y1,'g-')\n",
    "saxis2.plot(x,y2,'r-')"
   ]
  },
  {
   "cell_type": "markdown",
   "metadata": {},
   "source": [
    "假定：x:n*m,y:n*1,w:m*1,将两个函数合并就可以得到逻辑回归的代价函数：  \n",
    "$J(w) = - \\frac{1}{n}\\sum_{i=1}^n(y_i*log(h_w(x)+(1-y_i)log(1-h_w(x))))$"
   ]
  },
  {
   "cell_type": "markdown",
   "metadata": {},
   "source": [
    "有个代价函数就可以用梯度下降算法等其他计算方法进行w优化:  \n",
    "Repeat Until Convergence {    \n",
    "    $w_j = w_j - \\frac{\\alpha}{n}\\sum_{i=1}{n}(h_w(x_i) - y_i)*x_i^j$  \n",
    "    (simultaneously update all)  \n",
    "}"
   ]
  },
  {
   "cell_type": "markdown",
   "metadata": {},
   "source": [
    "逻辑回归也可以用l1或l2惩戒式来正则化：  \n",
    "$J(w) = -(\\frac{1}{n}\\sum_{i=1}{n}y_i*h_w(x_i)+(1-y_i)log(1-h_x(x_i)))+\\frac{\\lambda}{2m}\\sum_{j=1}^mw_j^2$"
   ]
  },
  {
   "cell_type": "markdown",
   "metadata": {},
   "source": [
    "梯度下降算法：  \n",
    "Repeat Until Convergence {    \n",
    "    $w_0 = w_0 - \\frac{\\alpha}{n}\\sum_{i=1}{n}(h_w(x_i) - y_i)*x_0$  \n",
    "    $w_j = w_j - \\frac{\\alpha}{n}\\sum_{i=1}{n}(h_w(x_i) - y_i)*x_i^j + \\frac{\\lambda}{m}w_j$ for i=1,2,3,...m  \n",
    "    (simultaneously update all)  \n",
    "}"
   ]
  },
  {
   "cell_type": "markdown",
   "metadata": {},
   "source": [
    "在sklearn中有对应的模块\n"
   ]
  },
  {
   "cell_type": "code",
   "execution_count": 25,
   "metadata": {
    "collapsed": true
   },
   "outputs": [],
   "source": [
    "from sklearn.linear_model import LogisticRegression"
   ]
  },
  {
   "cell_type": "markdown",
   "metadata": {},
   "source": [
    "```\n",
    "LogisticRegression(penalty=’l2’, dual=False, tol=0.0001, C=1.0, fit_intercept=True, intercept_scaling=1, class_weight=None, random_state=None, solver=’liblinear’, max_iter=100, multi_class=’ovr’, verbose=0, warm_start=False, n_jobs=1)   \n",
    "```\n",
    "penalty 正则化惩戒方式：l2,l1\n",
    "dual:双重性\n",
    "C:正则化系数\n"
   ]
  },
  {
   "cell_type": "code",
   "execution_count": null,
   "metadata": {
    "collapsed": true
   },
   "outputs": [],
   "source": []
  }
 ],
 "metadata": {
  "kernelspec": {
   "display_name": "Python 3",
   "language": "python",
   "name": "python3"
  },
  "language_info": {
   "codemirror_mode": {
    "name": "ipython",
    "version": 3
   },
   "file_extension": ".py",
   "mimetype": "text/x-python",
   "name": "python",
   "nbconvert_exporter": "python",
   "pygments_lexer": "ipython3",
   "version": "3.6.1"
  }
 },
 "nbformat": 4,
 "nbformat_minor": 2
}
